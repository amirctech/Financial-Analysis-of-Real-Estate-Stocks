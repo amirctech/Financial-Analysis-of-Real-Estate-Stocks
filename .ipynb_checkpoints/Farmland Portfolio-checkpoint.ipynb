{
 "cells": [
  {
   "cell_type": "markdown",
   "id": "e8111656-bf68-4380-b899-d5a185ba6cb1",
   "metadata": {},
   "source": [
    "## Imports"
   ]
  },
  {
   "cell_type": "code",
   "execution_count": 2,
   "id": "5cdf0086-1b56-4a11-8482-68485b2c530f",
   "metadata": {},
   "outputs": [],
   "source": [
    "import pandas as pd\n",
    "import numpy as np\n",
    "import hvplot.pandas\n",
    "import yfinance as yf\n",
    "import datetime\n"
   ]
  },
  {
   "cell_type": "markdown",
   "id": "a5677c1b-3642-427a-a09c-fd7a9d99c76e",
   "metadata": {},
   "source": [
    "## Data Collection"
   ]
  },
  {
   "cell_type": "code",
   "execution_count": 3,
   "id": "0652e66d-32ab-477e-9b62-26b5ea6ddce4",
   "metadata": {},
   "outputs": [
    {
     "name": "stdout",
     "output_type": "stream",
     "text": [
      "                                Open       High        Low      Close  Volume  \\\n",
      "Date                                                                            \n",
      "2018-09-06 00:00:00-04:00  16.110001  16.270000  16.110001  16.219999   40500   \n",
      "2018-09-07 00:00:00-04:00  16.150000  16.320000  16.150000  16.250000   59400   \n",
      "2018-09-10 00:00:00-04:00  16.240000  16.290001  16.180000  16.280001   42600   \n",
      "2018-09-11 00:00:00-04:00  16.240000  16.309999  16.219999  16.240000   35900   \n",
      "2018-09-12 00:00:00-04:00  16.190001  16.200001  15.680000  15.780000  325800   \n",
      "\n",
      "                           Dividends  Stock Splits  Capital Gains  \n",
      "Date                                                               \n",
      "2018-09-06 00:00:00-04:00        0.0           0.0            0.0  \n",
      "2018-09-07 00:00:00-04:00        0.0           0.0            0.0  \n",
      "2018-09-10 00:00:00-04:00        0.0           0.0            0.0  \n",
      "2018-09-11 00:00:00-04:00        0.0           0.0            0.0  \n",
      "2018-09-12 00:00:00-04:00        0.0           0.0            0.0  \n"
     ]
    }
   ],
   "source": [
    "# Define the stock symbol and create a Yahoo Finance ticker object\n",
    "symbol = \"CORN\"\n",
    "ticker = yf.Ticker(symbol)\n",
    "\n",
    "# Get historical stock data for the last 5 years\n",
    "historical_data = ticker.history(period=\"5y\")\n",
    "\n",
    "# Print the first few rows of the historical data\n",
    "print(historical_data.head())"
   ]
  },
  {
   "cell_type": "markdown",
   "id": "27a3f686-b62f-45d1-9e23-f7a75168c6d1",
   "metadata": {},
   "source": [
    "## Daily Returns"
   ]
  },
  {
   "cell_type": "code",
   "execution_count": 4,
   "id": "2c8d9da3-f5ed-4ae6-97d2-808fe6e2b8be",
   "metadata": {},
   "outputs": [
    {
     "name": "stdout",
     "output_type": "stream",
     "text": [
      "                                Open       High        Low      Close  Volume  \\\n",
      "Date                                                                            \n",
      "2018-09-06 00:00:00-04:00  16.110001  16.270000  16.110001  16.219999   40500   \n",
      "2018-09-07 00:00:00-04:00  16.150000  16.320000  16.150000  16.250000   59400   \n",
      "2018-09-10 00:00:00-04:00  16.240000  16.290001  16.180000  16.280001   42600   \n",
      "2018-09-11 00:00:00-04:00  16.240000  16.309999  16.219999  16.240000   35900   \n",
      "2018-09-12 00:00:00-04:00  16.190001  16.200001  15.680000  15.780000  325800   \n",
      "\n",
      "                           Dividends  Stock Splits  Capital Gains  \\\n",
      "Date                                                                \n",
      "2018-09-06 00:00:00-04:00        0.0           0.0            0.0   \n",
      "2018-09-07 00:00:00-04:00        0.0           0.0            0.0   \n",
      "2018-09-10 00:00:00-04:00        0.0           0.0            0.0   \n",
      "2018-09-11 00:00:00-04:00        0.0           0.0            0.0   \n",
      "2018-09-12 00:00:00-04:00        0.0           0.0            0.0   \n",
      "\n",
      "                           Daily_Return  \n",
      "Date                                     \n",
      "2018-09-06 00:00:00-04:00           NaN  \n",
      "2018-09-07 00:00:00-04:00      0.001850  \n",
      "2018-09-10 00:00:00-04:00      0.001846  \n",
      "2018-09-11 00:00:00-04:00     -0.002457  \n",
      "2018-09-12 00:00:00-04:00     -0.028325  \n"
     ]
    }
   ],
   "source": [
    "# Calculate daily returns\n",
    "historical_data['Daily_Return'] = historical_data['Close'].pct_change()\n",
    "\n",
    "# Print the first few rows of the data with daily returns\n",
    "print(historical_data.head())"
   ]
  },
  {
   "cell_type": "code",
   "execution_count": 7,
   "id": "44d854f1-0b1e-47e8-9ce0-5e4d0e64ab5d",
   "metadata": {},
   "outputs": [
    {
     "data": {
      "text/html": [
       "<div>\n",
       "<style scoped>\n",
       "    .dataframe tbody tr th:only-of-type {\n",
       "        vertical-align: middle;\n",
       "    }\n",
       "\n",
       "    .dataframe tbody tr th {\n",
       "        vertical-align: top;\n",
       "    }\n",
       "\n",
       "    .dataframe thead th {\n",
       "        text-align: right;\n",
       "    }\n",
       "</style>\n",
       "<table border=\"1\" class=\"dataframe\">\n",
       "  <thead>\n",
       "    <tr style=\"text-align: right;\">\n",
       "      <th></th>\n",
       "      <th>Date</th>\n",
       "      <th>Open</th>\n",
       "      <th>High</th>\n",
       "      <th>Low</th>\n",
       "      <th>Close</th>\n",
       "      <th>Volume</th>\n",
       "      <th>Dividends</th>\n",
       "      <th>Stock Splits</th>\n",
       "      <th>Capital Gains</th>\n",
       "      <th>Daily_Return</th>\n",
       "    </tr>\n",
       "  </thead>\n",
       "  <tbody>\n",
       "    <tr>\n",
       "      <th>0</th>\n",
       "      <td>2018-09-06 00:00:00-04:00</td>\n",
       "      <td>16.110001</td>\n",
       "      <td>16.270000</td>\n",
       "      <td>16.110001</td>\n",
       "      <td>16.219999</td>\n",
       "      <td>40500</td>\n",
       "      <td>0.0</td>\n",
       "      <td>0.0</td>\n",
       "      <td>0.0</td>\n",
       "      <td>NaN</td>\n",
       "    </tr>\n",
       "    <tr>\n",
       "      <th>1</th>\n",
       "      <td>2018-09-07 00:00:00-04:00</td>\n",
       "      <td>16.150000</td>\n",
       "      <td>16.320000</td>\n",
       "      <td>16.150000</td>\n",
       "      <td>16.250000</td>\n",
       "      <td>59400</td>\n",
       "      <td>0.0</td>\n",
       "      <td>0.0</td>\n",
       "      <td>0.0</td>\n",
       "      <td>0.001850</td>\n",
       "    </tr>\n",
       "    <tr>\n",
       "      <th>2</th>\n",
       "      <td>2018-09-10 00:00:00-04:00</td>\n",
       "      <td>16.240000</td>\n",
       "      <td>16.290001</td>\n",
       "      <td>16.180000</td>\n",
       "      <td>16.280001</td>\n",
       "      <td>42600</td>\n",
       "      <td>0.0</td>\n",
       "      <td>0.0</td>\n",
       "      <td>0.0</td>\n",
       "      <td>0.001846</td>\n",
       "    </tr>\n",
       "    <tr>\n",
       "      <th>3</th>\n",
       "      <td>2018-09-11 00:00:00-04:00</td>\n",
       "      <td>16.240000</td>\n",
       "      <td>16.309999</td>\n",
       "      <td>16.219999</td>\n",
       "      <td>16.240000</td>\n",
       "      <td>35900</td>\n",
       "      <td>0.0</td>\n",
       "      <td>0.0</td>\n",
       "      <td>0.0</td>\n",
       "      <td>-0.002457</td>\n",
       "    </tr>\n",
       "    <tr>\n",
       "      <th>4</th>\n",
       "      <td>2018-09-12 00:00:00-04:00</td>\n",
       "      <td>16.190001</td>\n",
       "      <td>16.200001</td>\n",
       "      <td>15.680000</td>\n",
       "      <td>15.780000</td>\n",
       "      <td>325800</td>\n",
       "      <td>0.0</td>\n",
       "      <td>0.0</td>\n",
       "      <td>0.0</td>\n",
       "      <td>-0.028325</td>\n",
       "    </tr>\n",
       "  </tbody>\n",
       "</table>\n",
       "</div>"
      ],
      "text/plain": [
       "                       Date       Open       High        Low      Close  \\\n",
       "0 2018-09-06 00:00:00-04:00  16.110001  16.270000  16.110001  16.219999   \n",
       "1 2018-09-07 00:00:00-04:00  16.150000  16.320000  16.150000  16.250000   \n",
       "2 2018-09-10 00:00:00-04:00  16.240000  16.290001  16.180000  16.280001   \n",
       "3 2018-09-11 00:00:00-04:00  16.240000  16.309999  16.219999  16.240000   \n",
       "4 2018-09-12 00:00:00-04:00  16.190001  16.200001  15.680000  15.780000   \n",
       "\n",
       "   Volume  Dividends  Stock Splits  Capital Gains  Daily_Return  \n",
       "0   40500        0.0           0.0            0.0           NaN  \n",
       "1   59400        0.0           0.0            0.0      0.001850  \n",
       "2   42600        0.0           0.0            0.0      0.001846  \n",
       "3   35900        0.0           0.0            0.0     -0.002457  \n",
       "4  325800        0.0           0.0            0.0     -0.028325  "
      ]
     },
     "execution_count": 7,
     "metadata": {},
     "output_type": "execute_result"
    }
   ],
   "source": [
    "# Convert to DataFrame and Reset Index\n",
    "df = pd.DataFrame(historical_data)\n",
    "df = df.reset_index()\n",
    "df.head()"
   ]
  },
  {
   "cell_type": "markdown",
   "id": "31caeaf3-a80e-4f93-b493-c31edbe12391",
   "metadata": {},
   "source": [
    "## Annualized Returns"
   ]
  },
  {
   "cell_type": "code",
   "execution_count": 11,
   "id": "f7ccac6c-34bc-4087-b708-f5bdd9482410",
   "metadata": {},
   "outputs": [
    {
     "name": "stdout",
     "output_type": "stream",
     "text": [
      "5.0\n",
      "6.640711445849079\n"
     ]
    }
   ],
   "source": [
    "\n",
    "# Calculate the total return over the period\n",
    "total_return = (1 + df['Daily_Return']).prod() - 1\n",
    "\n",
    "# Determine the number of years in the investment horizon\n",
    "years = (df['Date'].max() - df['Date'].min()).days / 365\n",
    "\n",
    "# Calculate annualized return using the formula: ((1 + Total Return)^(1 / Years) - 1)\n",
    "annualized_return = (pow(1 + total_return, 1 / years) - 1) * 100 \n",
    "\n",
    "print(years)\n",
    "print(annualized_return)"
   ]
  },
  {
   "cell_type": "markdown",
   "id": "bd215d38-9a41-44f7-ba07-f5e1f7043cfd",
   "metadata": {},
   "source": [
    "## Cumulative Returns"
   ]
  },
  {
   "cell_type": "code",
   "execution_count": 13,
   "id": "aadc80e2-1786-4058-81b2-1bbafd882a03",
   "metadata": {},
   "outputs": [
    {
     "data": {
      "text/html": [
       "<div>\n",
       "<style scoped>\n",
       "    .dataframe tbody tr th:only-of-type {\n",
       "        vertical-align: middle;\n",
       "    }\n",
       "\n",
       "    .dataframe tbody tr th {\n",
       "        vertical-align: top;\n",
       "    }\n",
       "\n",
       "    .dataframe thead th {\n",
       "        text-align: right;\n",
       "    }\n",
       "</style>\n",
       "<table border=\"1\" class=\"dataframe\">\n",
       "  <thead>\n",
       "    <tr style=\"text-align: right;\">\n",
       "      <th></th>\n",
       "      <th>Date</th>\n",
       "      <th>Open</th>\n",
       "      <th>High</th>\n",
       "      <th>Low</th>\n",
       "      <th>Close</th>\n",
       "      <th>Volume</th>\n",
       "      <th>Dividends</th>\n",
       "      <th>Stock Splits</th>\n",
       "      <th>Capital Gains</th>\n",
       "      <th>Daily_Return</th>\n",
       "      <th>Cumulative_Return</th>\n",
       "    </tr>\n",
       "  </thead>\n",
       "  <tbody>\n",
       "    <tr>\n",
       "      <th>0</th>\n",
       "      <td>2018-09-06 00:00:00-04:00</td>\n",
       "      <td>16.110001</td>\n",
       "      <td>16.270000</td>\n",
       "      <td>16.110001</td>\n",
       "      <td>16.219999</td>\n",
       "      <td>40500</td>\n",
       "      <td>0.0</td>\n",
       "      <td>0.0</td>\n",
       "      <td>0.0</td>\n",
       "      <td>NaN</td>\n",
       "      <td>NaN</td>\n",
       "    </tr>\n",
       "    <tr>\n",
       "      <th>1</th>\n",
       "      <td>2018-09-07 00:00:00-04:00</td>\n",
       "      <td>16.150000</td>\n",
       "      <td>16.320000</td>\n",
       "      <td>16.150000</td>\n",
       "      <td>16.250000</td>\n",
       "      <td>59400</td>\n",
       "      <td>0.0</td>\n",
       "      <td>0.0</td>\n",
       "      <td>0.0</td>\n",
       "      <td>0.001850</td>\n",
       "      <td>0.001850</td>\n",
       "    </tr>\n",
       "    <tr>\n",
       "      <th>2</th>\n",
       "      <td>2018-09-10 00:00:00-04:00</td>\n",
       "      <td>16.240000</td>\n",
       "      <td>16.290001</td>\n",
       "      <td>16.180000</td>\n",
       "      <td>16.280001</td>\n",
       "      <td>42600</td>\n",
       "      <td>0.0</td>\n",
       "      <td>0.0</td>\n",
       "      <td>0.0</td>\n",
       "      <td>0.001846</td>\n",
       "      <td>0.003699</td>\n",
       "    </tr>\n",
       "    <tr>\n",
       "      <th>3</th>\n",
       "      <td>2018-09-11 00:00:00-04:00</td>\n",
       "      <td>16.240000</td>\n",
       "      <td>16.309999</td>\n",
       "      <td>16.219999</td>\n",
       "      <td>16.240000</td>\n",
       "      <td>35900</td>\n",
       "      <td>0.0</td>\n",
       "      <td>0.0</td>\n",
       "      <td>0.0</td>\n",
       "      <td>-0.002457</td>\n",
       "      <td>0.001233</td>\n",
       "    </tr>\n",
       "    <tr>\n",
       "      <th>4</th>\n",
       "      <td>2018-09-12 00:00:00-04:00</td>\n",
       "      <td>16.190001</td>\n",
       "      <td>16.200001</td>\n",
       "      <td>15.680000</td>\n",
       "      <td>15.780000</td>\n",
       "      <td>325800</td>\n",
       "      <td>0.0</td>\n",
       "      <td>0.0</td>\n",
       "      <td>0.0</td>\n",
       "      <td>-0.028325</td>\n",
       "      <td>-0.027127</td>\n",
       "    </tr>\n",
       "  </tbody>\n",
       "</table>\n",
       "</div>"
      ],
      "text/plain": [
       "                       Date       Open       High        Low      Close  \\\n",
       "0 2018-09-06 00:00:00-04:00  16.110001  16.270000  16.110001  16.219999   \n",
       "1 2018-09-07 00:00:00-04:00  16.150000  16.320000  16.150000  16.250000   \n",
       "2 2018-09-10 00:00:00-04:00  16.240000  16.290001  16.180000  16.280001   \n",
       "3 2018-09-11 00:00:00-04:00  16.240000  16.309999  16.219999  16.240000   \n",
       "4 2018-09-12 00:00:00-04:00  16.190001  16.200001  15.680000  15.780000   \n",
       "\n",
       "   Volume  Dividends  Stock Splits  Capital Gains  Daily_Return  \\\n",
       "0   40500        0.0           0.0            0.0           NaN   \n",
       "1   59400        0.0           0.0            0.0      0.001850   \n",
       "2   42600        0.0           0.0            0.0      0.001846   \n",
       "3   35900        0.0           0.0            0.0     -0.002457   \n",
       "4  325800        0.0           0.0            0.0     -0.028325   \n",
       "\n",
       "   Cumulative_Return  \n",
       "0                NaN  \n",
       "1           0.001850  \n",
       "2           0.003699  \n",
       "3           0.001233  \n",
       "4          -0.027127  "
      ]
     },
     "execution_count": 13,
     "metadata": {},
     "output_type": "execute_result"
    }
   ],
   "source": [
    "# Calculate Cumulative Return and add as a Column\n",
    "df['Cumulative_Return'] = (1 + df['Daily_Return']).cumprod() - 1\n",
    "\n",
    "df.head()"
   ]
  },
  {
   "cell_type": "markdown",
   "id": "f58b97a2-fabb-44eb-ab17-bae6d1742939",
   "metadata": {},
   "source": [
    "## Annual Volatility "
   ]
  },
  {
   "cell_type": "code",
   "execution_count": 15,
   "id": "582046a4-d39a-4d01-9d5c-97c332a7b179",
   "metadata": {},
   "outputs": [
    {
     "name": "stdout",
     "output_type": "stream",
     "text": [
      "0.014023820047030379\n",
      "0.2226212416533871\n"
     ]
    }
   ],
   "source": [
    "# Calculate the standard deviation of daily returns\n",
    "daily_volatility = df['Daily_Return'].std()\n",
    "\n",
    "# Annualize the volatility\n",
    "annual_volatility = daily_volatility * np.sqrt(252)\n",
    "\n",
    "print(daily_volatility)\n",
    "print(annual_volatility)"
   ]
  },
  {
   "cell_type": "markdown",
   "id": "c144c3b0-2f70-4913-9cdc-0e752e0d9ce9",
   "metadata": {},
   "source": [
    "## Sharpe Ratio"
   ]
  },
  {
   "cell_type": "code",
   "execution_count": 19,
   "id": "2f68b98b-29e2-4675-9fff-e81094a905c8",
   "metadata": {},
   "outputs": [
    {
     "name": "stdout",
     "output_type": "stream",
     "text": [
      "0.0003541787598294234\n",
      "-0.04605173469174205\n"
     ]
    }
   ],
   "source": [
    "# Calculate the average daily return\n",
    "average_daily_return = df['Daily_Return'].mean()\n",
    "\n",
    "# Assume a daily risk free rate\n",
    "daily_risk_free_rate = 0.001\n",
    "\n",
    "# Calculate the Sharpe ratio\n",
    "sharpe_ratio = (average_daily_return - daily_risk_free_rate) / daily_volatility\n",
    "\n",
    "print(average_daily_return)\n",
    "print(sharpe_ratio)"
   ]
  },
  {
   "cell_type": "markdown",
   "id": "337456ff-526b-4f33-a0fa-ea20e148020a",
   "metadata": {},
   "source": [
    "## Sortino Ratio"
   ]
  },
  {
   "cell_type": "code",
   "execution_count": 20,
   "id": "943616bc-cf35-46ac-872e-b32cb8ca623a",
   "metadata": {},
   "outputs": [
    {
     "name": "stdout",
     "output_type": "stream",
     "text": [
      "-0.06750998829575451\n"
     ]
    }
   ],
   "source": [
    "# Calculate downside risk (standard deviation of negative returns)\n",
    "negative_returns = df[df['Daily_Return'] < 0]['Daily_Return']\n",
    "downside_risk = negative_returns.std()\n",
    "\n",
    "# Calculate the Sortino ratio\n",
    "sortino_ratio = (average_daily_return - daily_risk_free_rate) / downside_risk\n",
    "\n",
    "print(sortino_ratio)"
   ]
  },
  {
   "cell_type": "code",
   "execution_count": null,
   "id": "95e6e6f5-685d-4411-83b5-2e14612a93a2",
   "metadata": {},
   "outputs": [],
   "source": []
  }
 ],
 "metadata": {
  "kernelspec": {
   "display_name": "Python 3 (ipykernel)",
   "language": "python",
   "name": "python3"
  },
  "language_info": {
   "codemirror_mode": {
    "name": "ipython",
    "version": 3
   },
   "file_extension": ".py",
   "mimetype": "text/x-python",
   "name": "python",
   "nbconvert_exporter": "python",
   "pygments_lexer": "ipython3",
   "version": "3.10.10"
  }
 },
 "nbformat": 4,
 "nbformat_minor": 5
}
