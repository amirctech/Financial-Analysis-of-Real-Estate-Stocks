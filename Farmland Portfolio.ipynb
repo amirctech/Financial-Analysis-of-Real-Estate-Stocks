{
 "cells": [
  {
   "cell_type": "markdown",
   "id": "e8111656-bf68-4380-b899-d5a185ba6cb1",
   "metadata": {},
   "source": [
    "## Imports"
   ]
  },
  {
   "cell_type": "code",
   "execution_count": 519,
   "id": "5cdf0086-1b56-4a11-8482-68485b2c530f",
   "metadata": {},
   "outputs": [],
   "source": [
    "import pandas as pd\n",
    "import numpy as np\n",
    "import hvplot.pandas\n",
    "import yfinance as yf\n",
    "import datetime\n"
   ]
  },
  {
   "cell_type": "markdown",
   "id": "a5677c1b-3642-427a-a09c-fd7a9d99c76e",
   "metadata": {},
   "source": [
    "## Data Collection"
   ]
  },
  {
   "cell_type": "code",
   "execution_count": 520,
   "id": "0652e66d-32ab-477e-9b62-26b5ea6ddce4",
   "metadata": {},
   "outputs": [
    {
     "name": "stdout",
     "output_type": "stream",
     "text": [
      "                                Open       High    Low  Close  Volume  \\\n",
      "Date                                                                    \n",
      "2018-09-12 00:00:00-04:00  16.190001  16.200001  15.68  15.78  325800   \n",
      "2018-09-13 00:00:00-04:00  15.760000  15.800000  15.63  15.70   55800   \n",
      "2018-09-14 00:00:00-04:00  15.650000  15.730000  15.65  15.71   31600   \n",
      "2018-09-17 00:00:00-04:00  15.680000  15.680000  15.58  15.59   55600   \n",
      "2018-09-18 00:00:00-04:00  15.560000  15.560000  15.39  15.40   98700   \n",
      "\n",
      "                           Dividends  Stock Splits  Capital Gains  \n",
      "Date                                                               \n",
      "2018-09-12 00:00:00-04:00        0.0           0.0            0.0  \n",
      "2018-09-13 00:00:00-04:00        0.0           0.0            0.0  \n",
      "2018-09-14 00:00:00-04:00        0.0           0.0            0.0  \n",
      "2018-09-17 00:00:00-04:00        0.0           0.0            0.0  \n",
      "2018-09-18 00:00:00-04:00        0.0           0.0            0.0  \n"
     ]
    }
   ],
   "source": [
    "# Define the stock symbol and create a Yahoo Finance ticker object\n",
    "symbol = \"CORN\"\n",
    "ticker = yf.Ticker(symbol)\n",
    "\n",
    "# Get historical stock data for the last 5 years\n",
    "historical_data = ticker.history(period=\"5y\")\n",
    "\n",
    "# Print the first few rows of the historical data\n",
    "print(historical_data.head())"
   ]
  },
  {
   "cell_type": "markdown",
   "id": "27a3f686-b62f-45d1-9e23-f7a75168c6d1",
   "metadata": {},
   "source": [
    "## Daily Returns"
   ]
  },
  {
   "cell_type": "code",
   "execution_count": 521,
   "id": "2c8d9da3-f5ed-4ae6-97d2-808fe6e2b8be",
   "metadata": {},
   "outputs": [
    {
     "name": "stdout",
     "output_type": "stream",
     "text": [
      "                                Open       High    Low  Close  Volume  \\\n",
      "Date                                                                    \n",
      "2018-09-12 00:00:00-04:00  16.190001  16.200001  15.68  15.78  325800   \n",
      "2018-09-13 00:00:00-04:00  15.760000  15.800000  15.63  15.70   55800   \n",
      "2018-09-14 00:00:00-04:00  15.650000  15.730000  15.65  15.71   31600   \n",
      "2018-09-17 00:00:00-04:00  15.680000  15.680000  15.58  15.59   55600   \n",
      "2018-09-18 00:00:00-04:00  15.560000  15.560000  15.39  15.40   98700   \n",
      "\n",
      "                           Dividends  Stock Splits  Capital Gains  \\\n",
      "Date                                                                \n",
      "2018-09-12 00:00:00-04:00        0.0           0.0            0.0   \n",
      "2018-09-13 00:00:00-04:00        0.0           0.0            0.0   \n",
      "2018-09-14 00:00:00-04:00        0.0           0.0            0.0   \n",
      "2018-09-17 00:00:00-04:00        0.0           0.0            0.0   \n",
      "2018-09-18 00:00:00-04:00        0.0           0.0            0.0   \n",
      "\n",
      "                           Daily_Return  \n",
      "Date                                     \n",
      "2018-09-12 00:00:00-04:00           NaN  \n",
      "2018-09-13 00:00:00-04:00     -0.005070  \n",
      "2018-09-14 00:00:00-04:00      0.000637  \n",
      "2018-09-17 00:00:00-04:00     -0.007638  \n",
      "2018-09-18 00:00:00-04:00     -0.012187  \n"
     ]
    }
   ],
   "source": [
    "# Calculate daily returns\n",
    "historical_data['Daily_Return'] = historical_data['Close'].pct_change()\n",
    "\n",
    "# Print the first few rows of the data with daily returns\n",
    "print(historical_data.head())"
   ]
  },
  {
   "cell_type": "code",
   "execution_count": 522,
   "id": "44d854f1-0b1e-47e8-9ce0-5e4d0e64ab5d",
   "metadata": {},
   "outputs": [
    {
     "data": {
      "text/html": [
       "<div>\n",
       "<style scoped>\n",
       "    .dataframe tbody tr th:only-of-type {\n",
       "        vertical-align: middle;\n",
       "    }\n",
       "\n",
       "    .dataframe tbody tr th {\n",
       "        vertical-align: top;\n",
       "    }\n",
       "\n",
       "    .dataframe thead th {\n",
       "        text-align: right;\n",
       "    }\n",
       "</style>\n",
       "<table border=\"1\" class=\"dataframe\">\n",
       "  <thead>\n",
       "    <tr style=\"text-align: right;\">\n",
       "      <th></th>\n",
       "      <th>Date</th>\n",
       "      <th>Close</th>\n",
       "      <th>Daily_Return</th>\n",
       "    </tr>\n",
       "  </thead>\n",
       "  <tbody>\n",
       "    <tr>\n",
       "      <th>0</th>\n",
       "      <td>2018-09-12 00:00:00-04:00</td>\n",
       "      <td>15.78</td>\n",
       "      <td>NaN</td>\n",
       "    </tr>\n",
       "    <tr>\n",
       "      <th>1</th>\n",
       "      <td>2018-09-13 00:00:00-04:00</td>\n",
       "      <td>15.70</td>\n",
       "      <td>-0.005070</td>\n",
       "    </tr>\n",
       "    <tr>\n",
       "      <th>2</th>\n",
       "      <td>2018-09-14 00:00:00-04:00</td>\n",
       "      <td>15.71</td>\n",
       "      <td>0.000637</td>\n",
       "    </tr>\n",
       "    <tr>\n",
       "      <th>3</th>\n",
       "      <td>2018-09-17 00:00:00-04:00</td>\n",
       "      <td>15.59</td>\n",
       "      <td>-0.007638</td>\n",
       "    </tr>\n",
       "    <tr>\n",
       "      <th>4</th>\n",
       "      <td>2018-09-18 00:00:00-04:00</td>\n",
       "      <td>15.40</td>\n",
       "      <td>-0.012187</td>\n",
       "    </tr>\n",
       "  </tbody>\n",
       "</table>\n",
       "</div>"
      ],
      "text/plain": [
       "                       Date  Close  Daily_Return\n",
       "0 2018-09-12 00:00:00-04:00  15.78           NaN\n",
       "1 2018-09-13 00:00:00-04:00  15.70     -0.005070\n",
       "2 2018-09-14 00:00:00-04:00  15.71      0.000637\n",
       "3 2018-09-17 00:00:00-04:00  15.59     -0.007638\n",
       "4 2018-09-18 00:00:00-04:00  15.40     -0.012187"
      ]
     },
     "execution_count": 522,
     "metadata": {},
     "output_type": "execute_result"
    }
   ],
   "source": [
    "# Convert to DataFrame and Reset Index\n",
    "df = pd.DataFrame(historical_data)\n",
    "df = df.reset_index()\n",
    "df = df.drop(columns = [\"Open\", \"High\", \"Low\", \"Volume\", \"Dividends\", \"Stock Splits\", \"Capital Gains\"])\n",
    "df.head()"
   ]
  },
  {
   "cell_type": "markdown",
   "id": "31caeaf3-a80e-4f93-b493-c31edbe12391",
   "metadata": {},
   "source": [
    "## Annualized Returns"
   ]
  },
  {
   "cell_type": "code",
   "execution_count": 523,
   "id": "f7ccac6c-34bc-4087-b708-f5bdd9482410",
   "metadata": {},
   "outputs": [
    {
     "name": "stdout",
     "output_type": "stream",
     "text": [
      "5.0\n",
      "7.190512162825113\n"
     ]
    }
   ],
   "source": [
    "\n",
    "# Calculate the total return over the period\n",
    "total_return = (1 + df['Daily_Return']).prod() - 1\n",
    "\n",
    "# Determine the number of years in the investment horizon\n",
    "years = (df['Date'].max() - df['Date'].min()).days / 365\n",
    "\n",
    "# Calculate annualized return using the formula: ((1 + Total Return)^(1 / Years) - 1)\n",
    "annualized_return = (pow(1 + total_return, 1 / years) - 1) * 100 \n",
    "\n",
    "print(years)\n",
    "print(annualized_return)"
   ]
  },
  {
   "cell_type": "markdown",
   "id": "bd215d38-9a41-44f7-ba07-f5e1f7043cfd",
   "metadata": {},
   "source": [
    "## Cumulative Returns"
   ]
  },
  {
   "cell_type": "code",
   "execution_count": 524,
   "id": "aadc80e2-1786-4058-81b2-1bbafd882a03",
   "metadata": {},
   "outputs": [
    {
     "data": {
      "text/html": [
       "<div>\n",
       "<style scoped>\n",
       "    .dataframe tbody tr th:only-of-type {\n",
       "        vertical-align: middle;\n",
       "    }\n",
       "\n",
       "    .dataframe tbody tr th {\n",
       "        vertical-align: top;\n",
       "    }\n",
       "\n",
       "    .dataframe thead th {\n",
       "        text-align: right;\n",
       "    }\n",
       "</style>\n",
       "<table border=\"1\" class=\"dataframe\">\n",
       "  <thead>\n",
       "    <tr style=\"text-align: right;\">\n",
       "      <th></th>\n",
       "      <th>Date</th>\n",
       "      <th>Close</th>\n",
       "      <th>Daily_Return</th>\n",
       "      <th>Cumulative_Return</th>\n",
       "    </tr>\n",
       "  </thead>\n",
       "  <tbody>\n",
       "    <tr>\n",
       "      <th>0</th>\n",
       "      <td>2018-09-12 00:00:00-04:00</td>\n",
       "      <td>15.78</td>\n",
       "      <td>NaN</td>\n",
       "      <td>NaN</td>\n",
       "    </tr>\n",
       "    <tr>\n",
       "      <th>1</th>\n",
       "      <td>2018-09-13 00:00:00-04:00</td>\n",
       "      <td>15.70</td>\n",
       "      <td>-0.005070</td>\n",
       "      <td>-0.005070</td>\n",
       "    </tr>\n",
       "    <tr>\n",
       "      <th>2</th>\n",
       "      <td>2018-09-14 00:00:00-04:00</td>\n",
       "      <td>15.71</td>\n",
       "      <td>0.000637</td>\n",
       "      <td>-0.004436</td>\n",
       "    </tr>\n",
       "    <tr>\n",
       "      <th>3</th>\n",
       "      <td>2018-09-17 00:00:00-04:00</td>\n",
       "      <td>15.59</td>\n",
       "      <td>-0.007638</td>\n",
       "      <td>-0.012041</td>\n",
       "    </tr>\n",
       "    <tr>\n",
       "      <th>4</th>\n",
       "      <td>2018-09-18 00:00:00-04:00</td>\n",
       "      <td>15.40</td>\n",
       "      <td>-0.012187</td>\n",
       "      <td>-0.024081</td>\n",
       "    </tr>\n",
       "  </tbody>\n",
       "</table>\n",
       "</div>"
      ],
      "text/plain": [
       "                       Date  Close  Daily_Return  Cumulative_Return\n",
       "0 2018-09-12 00:00:00-04:00  15.78           NaN                NaN\n",
       "1 2018-09-13 00:00:00-04:00  15.70     -0.005070          -0.005070\n",
       "2 2018-09-14 00:00:00-04:00  15.71      0.000637          -0.004436\n",
       "3 2018-09-17 00:00:00-04:00  15.59     -0.007638          -0.012041\n",
       "4 2018-09-18 00:00:00-04:00  15.40     -0.012187          -0.024081"
      ]
     },
     "execution_count": 524,
     "metadata": {},
     "output_type": "execute_result"
    }
   ],
   "source": [
    "# Calculate Cumulative Return and add as a Column\n",
    "df['Cumulative_Return'] = (1 + df['Daily_Return']).cumprod() - 1\n",
    "\n",
    "df.head()"
   ]
  },
  {
   "cell_type": "markdown",
   "id": "f58b97a2-fabb-44eb-ab17-bae6d1742939",
   "metadata": {},
   "source": [
    "## Annual Volatility "
   ]
  },
  {
   "cell_type": "code",
   "execution_count": 525,
   "id": "582046a4-d39a-4d01-9d5c-97c332a7b179",
   "metadata": {},
   "outputs": [
    {
     "name": "stdout",
     "output_type": "stream",
     "text": [
      "0.014002668772951124\n",
      "0.22228547558663184\n"
     ]
    }
   ],
   "source": [
    "# Calculate the standard deviation of daily returns\n",
    "daily_volatility = df['Daily_Return'].std()\n",
    "\n",
    "# Annualize the volatility\n",
    "annual_volatility = daily_volatility * np.sqrt(252)\n",
    "\n",
    "print(daily_volatility)\n",
    "print(annual_volatility)"
   ]
  },
  {
   "cell_type": "markdown",
   "id": "c144c3b0-2f70-4913-9cdc-0e752e0d9ce9",
   "metadata": {},
   "source": [
    "## Sharpe Ratio"
   ]
  },
  {
   "cell_type": "code",
   "execution_count": 526,
   "id": "2f68b98b-29e2-4675-9fff-e81094a905c8",
   "metadata": {},
   "outputs": [
    {
     "name": "stdout",
     "output_type": "stream",
     "text": [
      "0.0003743550672460483\n",
      "-0.044680406492404255\n"
     ]
    }
   ],
   "source": [
    "# Calculate the average daily return\n",
    "average_daily_return = df['Daily_Return'].mean()\n",
    "\n",
    "# Assume a daily risk free rate\n",
    "daily_risk_free_rate = 0.001\n",
    "\n",
    "# Calculate the Sharpe ratio\n",
    "sharpe_ratio = (average_daily_return - daily_risk_free_rate) / daily_volatility\n",
    "\n",
    "print(average_daily_return)\n",
    "print(sharpe_ratio)"
   ]
  },
  {
   "cell_type": "markdown",
   "id": "337456ff-526b-4f33-a0fa-ea20e148020a",
   "metadata": {},
   "source": [
    "## Sortino Ratio"
   ]
  },
  {
   "cell_type": "code",
   "execution_count": 527,
   "id": "943616bc-cf35-46ac-872e-b32cb8ca623a",
   "metadata": {},
   "outputs": [
    {
     "name": "stdout",
     "output_type": "stream",
     "text": [
      "-0.06559586892568836\n"
     ]
    }
   ],
   "source": [
    "# Calculate downside risk (standard deviation of negative returns)\n",
    "negative_returns = df[df['Daily_Return'] < 0]['Daily_Return']\n",
    "downside_risk = negative_returns.std()\n",
    "\n",
    "# Calculate the Sortino ratio\n",
    "sortino_ratio = (average_daily_return - daily_risk_free_rate) / downside_risk\n",
    "\n",
    "print(sortino_ratio)"
   ]
  },
  {
   "cell_type": "markdown",
   "id": "4be6a823-dc41-463f-a055-edfcb8f605d0",
   "metadata": {},
   "source": [
    "# Trading Algorithm"
   ]
  },
  {
   "cell_type": "code",
   "execution_count": 528,
   "id": "b5ee6519-ed03-4694-9b02-51f96563512d",
   "metadata": {},
   "outputs": [],
   "source": [
    "from sklearn.model_selection import train_test_split\n",
    "from sklearn.linear_model import LogisticRegression\n",
    "from sklearn.preprocessing import StandardScaler\n",
    "from sklearn.metrics import confusion_matrix, accuracy_score, classification_report"
   ]
  },
  {
   "cell_type": "markdown",
   "id": "28546cd1-f273-403b-8c23-cac93debcff5",
   "metadata": {},
   "source": [
    "## Create Short and Long Window "
   ]
  },
  {
   "cell_type": "code",
   "execution_count": 529,
   "id": "68faef61-f454-4ff8-912a-bd1c75eee3d0",
   "metadata": {},
   "outputs": [
    {
     "data": {
      "text/html": [
       "<div>\n",
       "<style scoped>\n",
       "    .dataframe tbody tr th:only-of-type {\n",
       "        vertical-align: middle;\n",
       "    }\n",
       "\n",
       "    .dataframe tbody tr th {\n",
       "        vertical-align: top;\n",
       "    }\n",
       "\n",
       "    .dataframe thead th {\n",
       "        text-align: right;\n",
       "    }\n",
       "</style>\n",
       "<table border=\"1\" class=\"dataframe\">\n",
       "  <thead>\n",
       "    <tr style=\"text-align: right;\">\n",
       "      <th></th>\n",
       "      <th>Close</th>\n",
       "      <th>Daily_Return</th>\n",
       "      <th>Cumulative_Return</th>\n",
       "      <th>SMA_Short</th>\n",
       "      <th>SMA_Long</th>\n",
       "    </tr>\n",
       "    <tr>\n",
       "      <th>Date</th>\n",
       "      <th></th>\n",
       "      <th></th>\n",
       "      <th></th>\n",
       "      <th></th>\n",
       "      <th></th>\n",
       "    </tr>\n",
       "  </thead>\n",
       "  <tbody>\n",
       "    <tr>\n",
       "      <th>2018-09-12 00:00:00-04:00</th>\n",
       "      <td>15.78</td>\n",
       "      <td>NaN</td>\n",
       "      <td>NaN</td>\n",
       "      <td>NaN</td>\n",
       "      <td>NaN</td>\n",
       "    </tr>\n",
       "    <tr>\n",
       "      <th>2018-09-13 00:00:00-04:00</th>\n",
       "      <td>15.70</td>\n",
       "      <td>-0.005070</td>\n",
       "      <td>-0.005070</td>\n",
       "      <td>NaN</td>\n",
       "      <td>NaN</td>\n",
       "    </tr>\n",
       "    <tr>\n",
       "      <th>2018-09-14 00:00:00-04:00</th>\n",
       "      <td>15.71</td>\n",
       "      <td>0.000637</td>\n",
       "      <td>-0.004436</td>\n",
       "      <td>NaN</td>\n",
       "      <td>NaN</td>\n",
       "    </tr>\n",
       "    <tr>\n",
       "      <th>2018-09-17 00:00:00-04:00</th>\n",
       "      <td>15.59</td>\n",
       "      <td>-0.007638</td>\n",
       "      <td>-0.012041</td>\n",
       "      <td>NaN</td>\n",
       "      <td>NaN</td>\n",
       "    </tr>\n",
       "    <tr>\n",
       "      <th>2018-09-18 00:00:00-04:00</th>\n",
       "      <td>15.40</td>\n",
       "      <td>-0.012187</td>\n",
       "      <td>-0.024081</td>\n",
       "      <td>NaN</td>\n",
       "      <td>NaN</td>\n",
       "    </tr>\n",
       "  </tbody>\n",
       "</table>\n",
       "</div>"
      ],
      "text/plain": [
       "                           Close  Daily_Return  Cumulative_Return  SMA_Short  \\\n",
       "Date                                                                           \n",
       "2018-09-12 00:00:00-04:00  15.78           NaN                NaN        NaN   \n",
       "2018-09-13 00:00:00-04:00  15.70     -0.005070          -0.005070        NaN   \n",
       "2018-09-14 00:00:00-04:00  15.71      0.000637          -0.004436        NaN   \n",
       "2018-09-17 00:00:00-04:00  15.59     -0.007638          -0.012041        NaN   \n",
       "2018-09-18 00:00:00-04:00  15.40     -0.012187          -0.024081        NaN   \n",
       "\n",
       "                           SMA_Long  \n",
       "Date                                 \n",
       "2018-09-12 00:00:00-04:00       NaN  \n",
       "2018-09-13 00:00:00-04:00       NaN  \n",
       "2018-09-14 00:00:00-04:00       NaN  \n",
       "2018-09-17 00:00:00-04:00       NaN  \n",
       "2018-09-18 00:00:00-04:00       NaN  "
      ]
     },
     "execution_count": 529,
     "metadata": {},
     "output_type": "execute_result"
    }
   ],
   "source": [
    "df = df.set_index([\"Date\"])\n",
    "\n",
    "df['SMA_Short'] = df['Close'].rolling(window=69).mean()\n",
    "df['SMA_Long'] = df['Close'].rolling(window=187).mean()\n",
    "df.head()"
   ]
  },
  {
   "cell_type": "code",
   "execution_count": 530,
   "id": "c691e810-7c52-4ffb-aa4a-3d5cb8ed68cb",
   "metadata": {},
   "outputs": [
    {
     "data": {
      "text/html": [
       "<div>\n",
       "<style scoped>\n",
       "    .dataframe tbody tr th:only-of-type {\n",
       "        vertical-align: middle;\n",
       "    }\n",
       "\n",
       "    .dataframe tbody tr th {\n",
       "        vertical-align: top;\n",
       "    }\n",
       "\n",
       "    .dataframe thead th {\n",
       "        text-align: right;\n",
       "    }\n",
       "</style>\n",
       "<table border=\"1\" class=\"dataframe\">\n",
       "  <thead>\n",
       "    <tr style=\"text-align: right;\">\n",
       "      <th></th>\n",
       "      <th>Close</th>\n",
       "      <th>Daily_Return</th>\n",
       "      <th>Cumulative_Return</th>\n",
       "      <th>SMA_Short</th>\n",
       "      <th>SMA_Long</th>\n",
       "      <th>Signal</th>\n",
       "    </tr>\n",
       "    <tr>\n",
       "      <th>Date</th>\n",
       "      <th></th>\n",
       "      <th></th>\n",
       "      <th></th>\n",
       "      <th></th>\n",
       "      <th></th>\n",
       "      <th></th>\n",
       "    </tr>\n",
       "  </thead>\n",
       "  <tbody>\n",
       "    <tr>\n",
       "      <th>2018-09-12 00:00:00-04:00</th>\n",
       "      <td>15.78</td>\n",
       "      <td>NaN</td>\n",
       "      <td>NaN</td>\n",
       "      <td>NaN</td>\n",
       "      <td>NaN</td>\n",
       "      <td>-1</td>\n",
       "    </tr>\n",
       "    <tr>\n",
       "      <th>2018-09-13 00:00:00-04:00</th>\n",
       "      <td>15.70</td>\n",
       "      <td>-0.005070</td>\n",
       "      <td>-0.005070</td>\n",
       "      <td>NaN</td>\n",
       "      <td>NaN</td>\n",
       "      <td>-1</td>\n",
       "    </tr>\n",
       "    <tr>\n",
       "      <th>2018-09-14 00:00:00-04:00</th>\n",
       "      <td>15.71</td>\n",
       "      <td>0.000637</td>\n",
       "      <td>-0.004436</td>\n",
       "      <td>NaN</td>\n",
       "      <td>NaN</td>\n",
       "      <td>-1</td>\n",
       "    </tr>\n",
       "    <tr>\n",
       "      <th>2018-09-17 00:00:00-04:00</th>\n",
       "      <td>15.59</td>\n",
       "      <td>-0.007638</td>\n",
       "      <td>-0.012041</td>\n",
       "      <td>NaN</td>\n",
       "      <td>NaN</td>\n",
       "      <td>-1</td>\n",
       "    </tr>\n",
       "    <tr>\n",
       "      <th>2018-09-18 00:00:00-04:00</th>\n",
       "      <td>15.40</td>\n",
       "      <td>-0.012187</td>\n",
       "      <td>-0.024081</td>\n",
       "      <td>NaN</td>\n",
       "      <td>NaN</td>\n",
       "      <td>-1</td>\n",
       "    </tr>\n",
       "  </tbody>\n",
       "</table>\n",
       "</div>"
      ],
      "text/plain": [
       "                           Close  Daily_Return  Cumulative_Return  SMA_Short  \\\n",
       "Date                                                                           \n",
       "2018-09-12 00:00:00-04:00  15.78           NaN                NaN        NaN   \n",
       "2018-09-13 00:00:00-04:00  15.70     -0.005070          -0.005070        NaN   \n",
       "2018-09-14 00:00:00-04:00  15.71      0.000637          -0.004436        NaN   \n",
       "2018-09-17 00:00:00-04:00  15.59     -0.007638          -0.012041        NaN   \n",
       "2018-09-18 00:00:00-04:00  15.40     -0.012187          -0.024081        NaN   \n",
       "\n",
       "                           SMA_Long  Signal  \n",
       "Date                                         \n",
       "2018-09-12 00:00:00-04:00       NaN      -1  \n",
       "2018-09-13 00:00:00-04:00       NaN      -1  \n",
       "2018-09-14 00:00:00-04:00       NaN      -1  \n",
       "2018-09-17 00:00:00-04:00       NaN      -1  \n",
       "2018-09-18 00:00:00-04:00       NaN      -1  "
      ]
     },
     "execution_count": 530,
     "metadata": {},
     "output_type": "execute_result"
    }
   ],
   "source": [
    "# Create a binary target variable: 1 for buy signal, -1 for sell signal\n",
    "\n",
    "df['Signal'] = np.where(df['SMA_Short'] > df['SMA_Long'], 1, -1)\n",
    "df.head()"
   ]
  },
  {
   "cell_type": "code",
   "execution_count": 531,
   "id": "f123a5df-01db-4ae8-9800-b2022624282a",
   "metadata": {},
   "outputs": [
    {
     "data": {
      "text/html": [
       "<div>\n",
       "<style scoped>\n",
       "    .dataframe tbody tr th:only-of-type {\n",
       "        vertical-align: middle;\n",
       "    }\n",
       "\n",
       "    .dataframe tbody tr th {\n",
       "        vertical-align: top;\n",
       "    }\n",
       "\n",
       "    .dataframe thead th {\n",
       "        text-align: right;\n",
       "    }\n",
       "</style>\n",
       "<table border=\"1\" class=\"dataframe\">\n",
       "  <thead>\n",
       "    <tr style=\"text-align: right;\">\n",
       "      <th></th>\n",
       "      <th>Close</th>\n",
       "      <th>Daily_Return</th>\n",
       "      <th>Cumulative_Return</th>\n",
       "      <th>SMA_Short</th>\n",
       "      <th>SMA_Long</th>\n",
       "      <th>Signal</th>\n",
       "    </tr>\n",
       "    <tr>\n",
       "      <th>Date</th>\n",
       "      <th></th>\n",
       "      <th></th>\n",
       "      <th></th>\n",
       "      <th></th>\n",
       "      <th></th>\n",
       "      <th></th>\n",
       "    </tr>\n",
       "  </thead>\n",
       "  <tbody>\n",
       "    <tr>\n",
       "      <th>2019-06-11 00:00:00-04:00</th>\n",
       "      <td>16.750000</td>\n",
       "      <td>0.017001</td>\n",
       "      <td>0.061470</td>\n",
       "      <td>15.619275</td>\n",
       "      <td>15.968128</td>\n",
       "      <td>-1.0</td>\n",
       "    </tr>\n",
       "    <tr>\n",
       "      <th>2019-06-12 00:00:00-04:00</th>\n",
       "      <td>16.799999</td>\n",
       "      <td>0.002985</td>\n",
       "      <td>0.064639</td>\n",
       "      <td>15.632464</td>\n",
       "      <td>15.973583</td>\n",
       "      <td>-1.0</td>\n",
       "    </tr>\n",
       "    <tr>\n",
       "      <th>2019-06-13 00:00:00-04:00</th>\n",
       "      <td>17.059999</td>\n",
       "      <td>0.015476</td>\n",
       "      <td>0.081115</td>\n",
       "      <td>15.651304</td>\n",
       "      <td>15.980856</td>\n",
       "      <td>-1.0</td>\n",
       "    </tr>\n",
       "    <tr>\n",
       "      <th>2019-06-14 00:00:00-04:00</th>\n",
       "      <td>17.250000</td>\n",
       "      <td>0.011137</td>\n",
       "      <td>0.093156</td>\n",
       "      <td>15.676812</td>\n",
       "      <td>15.989091</td>\n",
       "      <td>-1.0</td>\n",
       "    </tr>\n",
       "    <tr>\n",
       "      <th>2019-06-17 00:00:00-04:00</th>\n",
       "      <td>17.410000</td>\n",
       "      <td>0.009275</td>\n",
       "      <td>0.103295</td>\n",
       "      <td>15.704927</td>\n",
       "      <td>15.998823</td>\n",
       "      <td>-1.0</td>\n",
       "    </tr>\n",
       "  </tbody>\n",
       "</table>\n",
       "</div>"
      ],
      "text/plain": [
       "                               Close  Daily_Return  Cumulative_Return  \\\n",
       "Date                                                                    \n",
       "2019-06-11 00:00:00-04:00  16.750000      0.017001           0.061470   \n",
       "2019-06-12 00:00:00-04:00  16.799999      0.002985           0.064639   \n",
       "2019-06-13 00:00:00-04:00  17.059999      0.015476           0.081115   \n",
       "2019-06-14 00:00:00-04:00  17.250000      0.011137           0.093156   \n",
       "2019-06-17 00:00:00-04:00  17.410000      0.009275           0.103295   \n",
       "\n",
       "                           SMA_Short   SMA_Long  Signal  \n",
       "Date                                                     \n",
       "2019-06-11 00:00:00-04:00  15.619275  15.968128    -1.0  \n",
       "2019-06-12 00:00:00-04:00  15.632464  15.973583    -1.0  \n",
       "2019-06-13 00:00:00-04:00  15.651304  15.980856    -1.0  \n",
       "2019-06-14 00:00:00-04:00  15.676812  15.989091    -1.0  \n",
       "2019-06-17 00:00:00-04:00  15.704927  15.998823    -1.0  "
      ]
     },
     "execution_count": 531,
     "metadata": {},
     "output_type": "execute_result"
    }
   ],
   "source": [
    "# Drop NaN values and shift target variable by one day\n",
    "df['Signal'] = df['Signal'].shift(-1)\n",
    "df = df.dropna()\n",
    "df.head()"
   ]
  },
  {
   "cell_type": "code",
   "execution_count": 532,
   "id": "a41fb10c-1aa5-452b-b340-dae8c3b194b0",
   "metadata": {},
   "outputs": [
    {
     "data": {
      "text/html": [
       "<div>\n",
       "<style scoped>\n",
       "    .dataframe tbody tr th:only-of-type {\n",
       "        vertical-align: middle;\n",
       "    }\n",
       "\n",
       "    .dataframe tbody tr th {\n",
       "        vertical-align: top;\n",
       "    }\n",
       "\n",
       "    .dataframe thead th {\n",
       "        text-align: right;\n",
       "    }\n",
       "</style>\n",
       "<table border=\"1\" class=\"dataframe\">\n",
       "  <thead>\n",
       "    <tr style=\"text-align: right;\">\n",
       "      <th></th>\n",
       "      <th>SMA_Short</th>\n",
       "      <th>SMA_Long</th>\n",
       "    </tr>\n",
       "    <tr>\n",
       "      <th>Date</th>\n",
       "      <th></th>\n",
       "      <th></th>\n",
       "    </tr>\n",
       "  </thead>\n",
       "  <tbody>\n",
       "    <tr>\n",
       "      <th>2019-06-11 00:00:00-04:00</th>\n",
       "      <td>15.619275</td>\n",
       "      <td>15.968128</td>\n",
       "    </tr>\n",
       "    <tr>\n",
       "      <th>2019-06-12 00:00:00-04:00</th>\n",
       "      <td>15.632464</td>\n",
       "      <td>15.973583</td>\n",
       "    </tr>\n",
       "    <tr>\n",
       "      <th>2019-06-13 00:00:00-04:00</th>\n",
       "      <td>15.651304</td>\n",
       "      <td>15.980856</td>\n",
       "    </tr>\n",
       "    <tr>\n",
       "      <th>2019-06-14 00:00:00-04:00</th>\n",
       "      <td>15.676812</td>\n",
       "      <td>15.989091</td>\n",
       "    </tr>\n",
       "    <tr>\n",
       "      <th>2019-06-17 00:00:00-04:00</th>\n",
       "      <td>15.704927</td>\n",
       "      <td>15.998823</td>\n",
       "    </tr>\n",
       "    <tr>\n",
       "      <th>...</th>\n",
       "      <td>...</td>\n",
       "      <td>...</td>\n",
       "    </tr>\n",
       "    <tr>\n",
       "      <th>2023-09-01 00:00:00-04:00</th>\n",
       "      <td>23.342464</td>\n",
       "      <td>24.552353</td>\n",
       "    </tr>\n",
       "    <tr>\n",
       "      <th>2023-09-05 00:00:00-04:00</th>\n",
       "      <td>23.335073</td>\n",
       "      <td>24.534813</td>\n",
       "    </tr>\n",
       "    <tr>\n",
       "      <th>2023-09-06 00:00:00-04:00</th>\n",
       "      <td>23.315942</td>\n",
       "      <td>24.517433</td>\n",
       "    </tr>\n",
       "    <tr>\n",
       "      <th>2023-09-07 00:00:00-04:00</th>\n",
       "      <td>23.303043</td>\n",
       "      <td>24.499144</td>\n",
       "    </tr>\n",
       "    <tr>\n",
       "      <th>2023-09-08 00:00:00-04:00</th>\n",
       "      <td>23.289710</td>\n",
       "      <td>24.480428</td>\n",
       "    </tr>\n",
       "  </tbody>\n",
       "</table>\n",
       "<p>1070 rows × 2 columns</p>\n",
       "</div>"
      ],
      "text/plain": [
       "                           SMA_Short   SMA_Long\n",
       "Date                                           \n",
       "2019-06-11 00:00:00-04:00  15.619275  15.968128\n",
       "2019-06-12 00:00:00-04:00  15.632464  15.973583\n",
       "2019-06-13 00:00:00-04:00  15.651304  15.980856\n",
       "2019-06-14 00:00:00-04:00  15.676812  15.989091\n",
       "2019-06-17 00:00:00-04:00  15.704927  15.998823\n",
       "...                              ...        ...\n",
       "2023-09-01 00:00:00-04:00  23.342464  24.552353\n",
       "2023-09-05 00:00:00-04:00  23.335073  24.534813\n",
       "2023-09-06 00:00:00-04:00  23.315942  24.517433\n",
       "2023-09-07 00:00:00-04:00  23.303043  24.499144\n",
       "2023-09-08 00:00:00-04:00  23.289710  24.480428\n",
       "\n",
       "[1070 rows x 2 columns]"
      ]
     },
     "metadata": {},
     "output_type": "display_data"
    },
    {
     "data": {
      "text/plain": [
       "Date\n",
       "2019-06-11 00:00:00-04:00   -1.0\n",
       "2019-06-12 00:00:00-04:00   -1.0\n",
       "2019-06-13 00:00:00-04:00   -1.0\n",
       "2019-06-14 00:00:00-04:00   -1.0\n",
       "2019-06-17 00:00:00-04:00   -1.0\n",
       "                            ... \n",
       "2023-09-01 00:00:00-04:00   -1.0\n",
       "2023-09-05 00:00:00-04:00   -1.0\n",
       "2023-09-06 00:00:00-04:00   -1.0\n",
       "2023-09-07 00:00:00-04:00   -1.0\n",
       "2023-09-08 00:00:00-04:00   -1.0\n",
       "Name: Signal, Length: 1070, dtype: float64"
      ]
     },
     "metadata": {},
     "output_type": "display_data"
    }
   ],
   "source": [
    "# Prepare data for machine learning\n",
    "X = df.drop(columns = ([\"Close\", \"Daily_Return\", \"Cumulative_Return\", \"Signal\"]))\n",
    "y = df[\"Signal\"]\n",
    "display(X)\n",
    "display(y)\n"
   ]
  },
  {
   "cell_type": "code",
   "execution_count": 533,
   "id": "6a0d7979-d616-46f9-95b8-13da5f6c70f8",
   "metadata": {},
   "outputs": [],
   "source": [
    "# Split data into training and testing sets\n",
    "X_train, X_test, y_train, y_test = train_test_split(X, y, test_size=0.2, random_state=1)"
   ]
  },
  {
   "cell_type": "code",
   "execution_count": 534,
   "id": "6ae0e471-9293-4d13-949c-3c52fe64f54b",
   "metadata": {},
   "outputs": [],
   "source": [
    "# Scale the data and transform\n",
    "scaler = StandardScaler()\n",
    "\n",
    "X_scaler = scaler.fit(X_train)\n",
    "\n",
    "X_train_scaled = X_scaler.transform(X_train)\n",
    "X_test_scaled = X_scaler.transform(X_test)"
   ]
  },
  {
   "cell_type": "code",
   "execution_count": 537,
   "id": "b7506d01-3b23-406a-8e74-7c0edf469773",
   "metadata": {},
   "outputs": [
    {
     "data": {
      "text/html": [
       "<style>#sk-container-id-26 {color: black;background-color: white;}#sk-container-id-26 pre{padding: 0;}#sk-container-id-26 div.sk-toggleable {background-color: white;}#sk-container-id-26 label.sk-toggleable__label {cursor: pointer;display: block;width: 100%;margin-bottom: 0;padding: 0.3em;box-sizing: border-box;text-align: center;}#sk-container-id-26 label.sk-toggleable__label-arrow:before {content: \"▸\";float: left;margin-right: 0.25em;color: #696969;}#sk-container-id-26 label.sk-toggleable__label-arrow:hover:before {color: black;}#sk-container-id-26 div.sk-estimator:hover label.sk-toggleable__label-arrow:before {color: black;}#sk-container-id-26 div.sk-toggleable__content {max-height: 0;max-width: 0;overflow: hidden;text-align: left;background-color: #f0f8ff;}#sk-container-id-26 div.sk-toggleable__content pre {margin: 0.2em;color: black;border-radius: 0.25em;background-color: #f0f8ff;}#sk-container-id-26 input.sk-toggleable__control:checked~div.sk-toggleable__content {max-height: 200px;max-width: 100%;overflow: auto;}#sk-container-id-26 input.sk-toggleable__control:checked~label.sk-toggleable__label-arrow:before {content: \"▾\";}#sk-container-id-26 div.sk-estimator input.sk-toggleable__control:checked~label.sk-toggleable__label {background-color: #d4ebff;}#sk-container-id-26 div.sk-label input.sk-toggleable__control:checked~label.sk-toggleable__label {background-color: #d4ebff;}#sk-container-id-26 input.sk-hidden--visually {border: 0;clip: rect(1px 1px 1px 1px);clip: rect(1px, 1px, 1px, 1px);height: 1px;margin: -1px;overflow: hidden;padding: 0;position: absolute;width: 1px;}#sk-container-id-26 div.sk-estimator {font-family: monospace;background-color: #f0f8ff;border: 1px dotted black;border-radius: 0.25em;box-sizing: border-box;margin-bottom: 0.5em;}#sk-container-id-26 div.sk-estimator:hover {background-color: #d4ebff;}#sk-container-id-26 div.sk-parallel-item::after {content: \"\";width: 100%;border-bottom: 1px solid gray;flex-grow: 1;}#sk-container-id-26 div.sk-label:hover label.sk-toggleable__label {background-color: #d4ebff;}#sk-container-id-26 div.sk-serial::before {content: \"\";position: absolute;border-left: 1px solid gray;box-sizing: border-box;top: 0;bottom: 0;left: 50%;z-index: 0;}#sk-container-id-26 div.sk-serial {display: flex;flex-direction: column;align-items: center;background-color: white;padding-right: 0.2em;padding-left: 0.2em;position: relative;}#sk-container-id-26 div.sk-item {position: relative;z-index: 1;}#sk-container-id-26 div.sk-parallel {display: flex;align-items: stretch;justify-content: center;background-color: white;position: relative;}#sk-container-id-26 div.sk-item::before, #sk-container-id-26 div.sk-parallel-item::before {content: \"\";position: absolute;border-left: 1px solid gray;box-sizing: border-box;top: 0;bottom: 0;left: 50%;z-index: -1;}#sk-container-id-26 div.sk-parallel-item {display: flex;flex-direction: column;z-index: 1;position: relative;background-color: white;}#sk-container-id-26 div.sk-parallel-item:first-child::after {align-self: flex-end;width: 50%;}#sk-container-id-26 div.sk-parallel-item:last-child::after {align-self: flex-start;width: 50%;}#sk-container-id-26 div.sk-parallel-item:only-child::after {width: 0;}#sk-container-id-26 div.sk-dashed-wrapped {border: 1px dashed gray;margin: 0 0.4em 0.5em 0.4em;box-sizing: border-box;padding-bottom: 0.4em;background-color: white;}#sk-container-id-26 div.sk-label label {font-family: monospace;font-weight: bold;display: inline-block;line-height: 1.2em;}#sk-container-id-26 div.sk-label-container {text-align: center;}#sk-container-id-26 div.sk-container {/* jupyter's `normalize.less` sets `[hidden] { display: none; }` but bootstrap.min.css set `[hidden] { display: none !important; }` so we also need the `!important` here to be able to override the default hidden behavior on the sphinx rendered scikit-learn.org. See: https://github.com/scikit-learn/scikit-learn/issues/21755 */display: inline-block !important;position: relative;}#sk-container-id-26 div.sk-text-repr-fallback {display: none;}</style><div id=\"sk-container-id-26\" class=\"sk-top-container\"><div class=\"sk-text-repr-fallback\"><pre>LogisticRegression(random_state=1)</pre><b>In a Jupyter environment, please rerun this cell to show the HTML representation or trust the notebook. <br />On GitHub, the HTML representation is unable to render, please try loading this page with nbviewer.org.</b></div><div class=\"sk-container\" hidden><div class=\"sk-item\"><div class=\"sk-estimator sk-toggleable\"><input class=\"sk-toggleable__control sk-hidden--visually\" id=\"sk-estimator-id-26\" type=\"checkbox\" checked><label for=\"sk-estimator-id-26\" class=\"sk-toggleable__label sk-toggleable__label-arrow\">LogisticRegression</label><div class=\"sk-toggleable__content\"><pre>LogisticRegression(random_state=1)</pre></div></div></div></div></div>"
      ],
      "text/plain": [
       "LogisticRegression(random_state=1)"
      ]
     },
     "execution_count": 537,
     "metadata": {},
     "output_type": "execute_result"
    }
   ],
   "source": [
    "# Build and train a machine learning model\n",
    "model = LogisticRegression(random_state = 1)\n",
    "model.fit(X_train_scaled, y_train)"
   ]
  },
  {
   "cell_type": "code",
   "execution_count": 538,
   "id": "ff5e721a-8112-4904-8937-afd8e51010f8",
   "metadata": {},
   "outputs": [
    {
     "name": "stdout",
     "output_type": "stream",
     "text": [
      "Accuracy: 0.9205607476635514\n",
      "              precision    recall  f1-score   support\n",
      "\n",
      "        -1.0       1.00      0.85      0.92       114\n",
      "         1.0       0.85      1.00      0.92       100\n",
      "\n",
      "    accuracy                           0.92       214\n",
      "   macro avg       0.93      0.93      0.92       214\n",
      "weighted avg       0.93      0.92      0.92       214\n",
      "\n"
     ]
    },
    {
     "name": "stderr",
     "output_type": "stream",
     "text": [
      "C:\\Users\\glzvi\\anaconda3\\envs\\dev\\lib\\site-packages\\sklearn\\base.py:432: UserWarning: X has feature names, but LogisticRegression was fitted without feature names\n",
      "  warnings.warn(\n"
     ]
    }
   ],
   "source": [
    "# Evaluate the model\n",
    "y_pred = model.predict(X_test)\n",
    "accuracy = accuracy_score(y_test, y_pred)\n",
    "testing_report = classification_report(y_test, y_pred)\n",
    "print(f'Accuracy: {accuracy}')\n",
    "print(testing_report)"
   ]
  }
 ],
 "metadata": {
  "kernelspec": {
   "display_name": "Python 3 (ipykernel)",
   "language": "python",
   "name": "python3"
  },
  "language_info": {
   "codemirror_mode": {
    "name": "ipython",
    "version": 3
   },
   "file_extension": ".py",
   "mimetype": "text/x-python",
   "name": "python",
   "nbconvert_exporter": "python",
   "pygments_lexer": "ipython3",
   "version": "3.10.10"
  }
 },
 "nbformat": 4,
 "nbformat_minor": 5
}
